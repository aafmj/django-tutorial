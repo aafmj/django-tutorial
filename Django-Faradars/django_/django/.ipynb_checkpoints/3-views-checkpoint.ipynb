{
 "cells": [
  {
   "cell_type": "markdown",
   "metadata": {},
   "source": [
    "# Django UnChained\n",
    "\n",
    "<img src=\"images/django.jpg\">\n",
    "\n",
    "# View"
   ]
  },
  {
   "cell_type": "markdown",
   "metadata": {},
   "source": [
    "A view function, or view for short, is simply a Python function that takes a Web request and returns a Web response.\n",
    "    \n",
    "This response can be the HTML contents of a Web page, or a redirect, or a 404 error, or an XML document, or an image . . . or anything, really.\n",
    "\n",
    "The view itself contains whatever arbitrary logic is necessary to return that response.\n",
    "\n",
    "This code can live anywhere you want, as long as it’s on your Python path. There’s no other requirement–no “magic,” so to speak.\n",
    "\n",
    "For the sake of putting the code somewhere, the convention is to put views in a file called views.py, placed in your project or application directory.\n",
    "\n",
    "A simple view:\n",
    "Here’s a view that returns the current date and time, as an HTML document:"
   ]
  },
  {
   "cell_type": "code",
   "execution_count": null,
   "metadata": {
    "collapsed": true
   },
   "outputs": [],
   "source": [
    "from django.http import HttpResponse\n",
    "import datetime\n",
    "\n",
    "def current_datetime(request):\n",
    "    now = datetime.datetime.now()\n",
    "    html = \"<html><body>It is now %s.</body></html>\" % now\n",
    "    return HttpResponse(html)"
   ]
  },
  {
   "cell_type": "markdown",
   "metadata": {},
   "source": [
    "Let’s step through this code one line at a time:\n",
    "\n",
    "First, we import the class HttpResponse from the django.http module, along with Python’s datetime library.\n",
    "\n",
    "Next, we define a function called current_datetime. This is the view function.\n",
    "Each view function takes an HttpRequest object as its first parameter, which is typically named request.\n",
    "\n",
    "Note that the name of the view function doesn’t matter; it doesn’t have to be named in a certain way in order for Django to recognize it.\n",
    "We’re calling it current_datetime here, because that name clearly indicates what it does.\n",
    "\n",
    "The view returns an HttpResponse object that contains the generated response.\n",
    "Each view function is responsible for returning an HttpResponse object. (There are exceptions, but we’ll get to those later.)\n",
    "\n",
    "\n",
    "## Mapping URLs to views:\n",
    "\n",
    "So, to recap, this view function returns an HTML page that includes the current date and time.\n",
    "To display this view at a particular URL, you’ll need to create a URLconf; see URL dispatcher for instructions.\n",
    "\n",
    "\n",
    "## Returning errors:\n",
    "\n",
    "Returning HTTP error codes in Django is easy. There are subclasses of HttpResponse for a number of common HTTP status codes other than 200 (which means “OK”).\n",
    "You can find the full list of available subclasses in the request/response documentation.\n",
    "Just return an instance of one of those subclasses instead of a normal HttpResponse in order to signify an error.\n",
    "For example:\n"
   ]
  },
  {
   "cell_type": "code",
   "execution_count": null,
   "metadata": {
    "collapsed": true
   },
   "outputs": [],
   "source": [
    "from django.http import HttpResponse, HttpResponseNotFound\n",
    "\n",
    "def my_view(request):\n",
    "    # ...\n",
    "    if foo:\n",
    "        return HttpResponseNotFound('<h1>Page not found</h1>')\n",
    "    else:\n",
    "        return HttpResponse('<h1>Page was found</h1>')"
   ]
  },
  {
   "cell_type": "markdown",
   "metadata": {},
   "source": [
    "There isn’t a specialized subclass for every possible HTTP response code, since many of them aren’t going to be that common.\n",
    "However, as documented in the HttpResponse documentation, you can also pass the HTTP status code into the constructor for HttpResponse to create a return class for any status code you like.\n",
    "For example:"
   ]
  },
  {
   "cell_type": "code",
   "execution_count": null,
   "metadata": {
    "collapsed": true
   },
   "outputs": [],
   "source": [
    "from django.http import HttpResponse\n",
    "\n",
    "def my_view(request):\n",
    "    # ...\n",
    "\n",
    "    # Return a \"created\" (201) response code.\n",
    "    return HttpResponse(status=201)"
   ]
  },
  {
   "cell_type": "markdown",
   "metadata": {},
   "source": [
    "## The Http404 exception:\n",
    "Because 404 errors are by far the most common HTTP error, there’s an easier way to handle those errors.\n",
    "\n",
    "> class django.http.Http404\n",
    "\n",
    "When you return an error such as HttpResponseNotFound, you’re responsible for defining the HTML of the resulting error page:\n",
    "\n",
    "     return HttpResponseNotFound('<h1>Page not found</h1>')\n",
    "\n",
    "\n",
    "For convenience, and because it’s a good idea to have a consistent 404 error page across your site, Django provides an Http404 exception.\n",
    "\n",
    "If you raise Http404 at any point in a view function, Django will catch it and return the standard error page for your application, along with an HTTP error code 404."
   ]
  },
  {
   "cell_type": "code",
   "execution_count": null,
   "metadata": {
    "collapsed": true
   },
   "outputs": [],
   "source": [
    "from django.http import Http404\n",
    "from django.shortcuts import render\n",
    "from polls.models import Poll\n",
    "\n",
    "def detail(request, poll_id):\n",
    "    try:\n",
    "        p = Poll.objects.get(pk=poll_id)\n",
    "    except Poll.DoesNotExist:\n",
    "        raise Http404(\"Poll does not exist\")\n",
    "    return render(request, 'polls/detail.html', {'poll': p})"
   ]
  },
  {
   "cell_type": "markdown",
   "metadata": {},
   "source": [
    "In order to show customized HTML when Django returns a 404, you can create an HTML template named 404.html and place it in the top level of your template tree.\n",
    "\n",
    "This template will then be served when DEBUG is set to False.\n",
    "\n",
    "When DEBUG is True, you can provide a message to Http404 and it will appear in the standard 404 debug template.\n",
    "\n",
    "Use these messages for debugging purposes; they generally aren’t suitable for use in a production 404 template.\n"
   ]
  },
  {
   "cell_type": "markdown",
   "metadata": {},
   "source": [
    "## View decorators:\n",
    "\n",
    "Django provides several decorators that can be applied to views to support various HTTP features.\n",
    "\n",
    "Allowed HTTP methods\n",
    "\n",
    "The decorators in django.views.decorators.http can be used to restrict access to views based on the request method.\n",
    "These decorators will return a django.http.HttpResponseNotAllowed if the conditions are not met.\n",
    "\n",
    "Decorator to require that a view only accepts particular request methods.\n",
    "Usage:\n",
    "\n",
    "    "
   ]
  },
  {
   "cell_type": "code",
   "execution_count": null,
   "metadata": {
    "collapsed": true
   },
   "outputs": [],
   "source": [
    "from django.views.decorators.http import require_http_methods\n",
    "\n",
    "    @require_http_methods([\"GET\", \"POST\"])\n",
    "    def my_view(request):\n",
    "        # I can assume now that only GET or POST requests make it this far\n",
    "        # ...\n",
    "        pass"
   ]
  },
  {
   "cell_type": "markdown",
   "metadata": {},
   "source": [
    "\n",
    "Note that request methods should be in uppercase.\n",
    "\n",
    "require_GET():\n",
    "> Decorator to require that a view only accepts the GET method.\n",
    "\n",
    "require_POST():\n",
    "> Decorator to require that a view only accepts the POST method.\n",
    "\n",
    "require_safe():\n",
    "> Decorator to require that a view only accepts the GET and HEAD methods.\n",
    "These methods are commonly considered “safe” because they should not have the significance of taking an action other than retrieving the requested resource."
   ]
  },
  {
   "cell_type": "markdown",
   "metadata": {
    "collapsed": true
   },
   "source": [
    "# Let’s learn by example.\n",
    "\n",
    "<img src=\"images/i-can-do-it.jpg\">\n",
    "\n",
    "# Writing your first Django app, part 1¶"
   ]
  },
  {
   "cell_type": "markdown",
   "metadata": {},
   "source": [
    "Throughout this tutorial, we’ll walk you through the creation of a basic poll application.\n",
    "\n",
    "It’ll consist of two parts:\n",
    "\n",
    "A public site that lets people view polls and vote in them.\n",
    "\n",
    "An admin site that lets you add, change, and delete polls.\n",
    "\n",
    "## Creating a project"
   ]
  },
  {
   "cell_type": "code",
   "execution_count": null,
   "metadata": {
    "collapsed": true
   },
   "outputs": [],
   "source": [
    "$ django-admin startproject mysite"
   ]
  },
  {
   "cell_type": "markdown",
   "metadata": {},
   "source": [
    "Let’s look at what startproject created:\n",
    "\n",
    "    mysite/\n",
    "        manage.py\n",
    "        mysite/\n",
    "            __init__.py\n",
    "            settings.py\n",
    "            urls.py\n",
    "            wsgi.py\n",
    "            \n",
    "## The development server"
   ]
  },
  {
   "cell_type": "code",
   "execution_count": null,
   "metadata": {
    "collapsed": true
   },
   "outputs": [],
   "source": [
    "$ python manage.py runserver"
   ]
  },
  {
   "cell_type": "markdown",
   "metadata": {},
   "source": [
    "## Creating the Polls app\n",
    "\n",
    "### Projects vs. apps\n",
    "\n",
    "> What’s the difference between a project and an app? An app is a Web application that does something – e.g., a Weblog system, a database of public records or a simple poll app. A project is a collection of configuration and apps for a particular website. A project can contain multiple apps. An app can be in multiple projects."
   ]
  },
  {
   "cell_type": "code",
   "execution_count": null,
   "metadata": {
    "collapsed": true
   },
   "outputs": [],
   "source": [
    "$ python manage.py startapp polls"
   ]
  },
  {
   "cell_type": "markdown",
   "metadata": {},
   "source": [
    "That’ll create a directory polls, which is laid out like this:\n",
    "\n",
    "    polls/\n",
    "        __init__.py\n",
    "        admin.py\n",
    "        apps.py\n",
    "        migrations/\n",
    "            __init__.py\n",
    "        models.py\n",
    "        tests.py\n",
    "        views.py"
   ]
  },
  {
   "cell_type": "markdown",
   "metadata": {},
   "source": [
    "## Write your first view\n",
    "\n"
   ]
  },
  {
   "cell_type": "code",
   "execution_count": null,
   "metadata": {
    "collapsed": true
   },
   "outputs": [],
   "source": [
    "# polls/views.py\n",
    "from django.http import HttpResponse\n",
    "\n",
    "def index(request):\n",
    "    return HttpResponse(\"Hello, world. You're at the polls index.\")"
   ]
  },
  {
   "cell_type": "markdown",
   "metadata": {},
   "source": [
    "To create a URLconf in the polls directory, create a file called urls.py. Your app directory should now look like:\n",
    "\n",
    "    polls/\n",
    "        __init__.py\n",
    "        admin.py\n",
    "        apps.py\n",
    "        migrations/\n",
    "            __init__.py\n",
    "        models.py\n",
    "        tests.py\n",
    "        urls.py\n",
    "        views.py\n",
    "        \n",
    "In the polls/urls.py file include the following code:"
   ]
  },
  {
   "cell_type": "code",
   "execution_count": null,
   "metadata": {
    "collapsed": true
   },
   "outputs": [],
   "source": [
    "# polls/urls.py\n",
    "from django.conf.urls import url\n",
    "\n",
    "from . import views\n",
    "\n",
    "urlpatterns = [\n",
    "    url(r'^$', views.index, name='index'),\n",
    "]"
   ]
  },
  {
   "cell_type": "markdown",
   "metadata": {},
   "source": [
    "The next step is to point the root URLconf at the polls.urls module. In mysite/urls.py, add an import for django.conf.urls.include and insert an include() in the urlpatterns list, so you have:\n"
   ]
  },
  {
   "cell_type": "code",
   "execution_count": null,
   "metadata": {
    "collapsed": true
   },
   "outputs": [],
   "source": [
    "# mysite/urls.py\n",
    "from django.conf.urls import include, url\n",
    "from django.contrib import admin\n",
    "\n",
    "urlpatterns = [\n",
    "    url(r'^polls/', include('polls.urls')),\n",
    "    url(r'^admin/', admin.site.urls),\n",
    "]"
   ]
  },
  {
   "cell_type": "markdown",
   "metadata": {},
   "source": [
    "## When to use include()\n",
    "\n",
    "You should always use include() when you include other URL patterns. admin.site.urls is the only exception to this."
   ]
  },
  {
   "cell_type": "code",
   "execution_count": null,
   "metadata": {
    "collapsed": true
   },
   "outputs": [],
   "source": [
    "$ python manage.py runserver"
   ]
  }
 ],
 "metadata": {
  "kernelspec": {
   "display_name": "Python 3",
   "language": "python",
   "name": "python3"
  },
  "language_info": {
   "codemirror_mode": {
    "name": "ipython",
    "version": 3
   },
   "file_extension": ".py",
   "mimetype": "text/x-python",
   "name": "python",
   "nbconvert_exporter": "python",
   "pygments_lexer": "ipython3",
   "version": "3.6.1"
  }
 },
 "nbformat": 4,
 "nbformat_minor": 2
}
