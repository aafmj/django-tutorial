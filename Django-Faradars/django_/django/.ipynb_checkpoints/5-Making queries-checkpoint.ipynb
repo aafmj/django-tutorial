{
 "cells": [
  {
   "cell_type": "markdown",
   "metadata": {},
   "source": [
    "# Django UnChained\n",
    "\n",
    "<img src=\"images/django.jpg\">\n",
    "\n",
    "# Making Queries\n",
    "\n",
    "Once you’ve created your data models, Django automatically gives you a database-abstraction API that lets you create, retrieve, update and delete objects.\n"
   ]
  },
  {
   "cell_type": "code",
   "execution_count": null,
   "metadata": {
    "collapsed": true
   },
   "outputs": [],
   "source": [
    "from django.db import models\n",
    "\n",
    "class Blog(models.Model):\n",
    "    name = models.CharField(max_length=100)\n",
    "    tagline = models.TextField()\n",
    "\n",
    "    def __str__(self):              # __unicode__ on Python 2\n",
    "        return self.name\n",
    "\n",
    "class Author(models.Model):\n",
    "    name = models.CharField(max_length=200)\n",
    "    email = models.EmailField()\n",
    "\n",
    "    def __str__(self):              # __unicode__ on Python 2\n",
    "        return self.name\n",
    "\n",
    "class Entry(models.Model):\n",
    "    blog = models.ForeignKey(Blog)\n",
    "    headline = models.CharField(max_length=255)\n",
    "    body_text = models.TextField()\n",
    "    pub_date = models.DateField()\n",
    "    mod_date = models.DateField()\n",
    "    authors = models.ManyToManyField(Author)\n",
    "    n_comments = models.IntegerField()\n",
    "    n_pingbacks = models.IntegerField()\n",
    "    rating = models.IntegerField()\n",
    "\n",
    "    def __str__(self):              # __unicode__ on Python 2\n",
    "        return self.headline"
   ]
  },
  {
   "cell_type": "markdown",
   "metadata": {},
   "source": [
    "## Creating objects:\n",
    "\n",
    "To represent database-table data in Python objects, Django uses an intuitive system:\n",
    "A model class represents a database table, and an instance of that class represents a particular record in the database table.\n",
    "To create an object, instantiate it using keyword arguments to the model class, then call save() to save it to the database.\n",
    "Assuming models live in a file mysite/blog/models.py, here’s an example:"
   ]
  },
  {
   "cell_type": "code",
   "execution_count": null,
   "metadata": {
    "collapsed": true
   },
   "outputs": [],
   "source": [
    ">>> from blog.models import Blog\n",
    ">>> b = Blog(name='Beatles Blog', tagline='All the latest Beatles news.')\n",
    ">>> b.save()"
   ]
  },
  {
   "cell_type": "markdown",
   "metadata": {},
   "source": [
    "This performs an INSERT SQL statement behind the scenes.\n",
    "Django doesn’t hit the database until you explicitly call save().\n",
    "The save() method has no return value."
   ]
  },
  {
   "cell_type": "markdown",
   "metadata": {},
   "source": [
    "## Saving changes to objects:\n",
    "\n",
    "To save changes to an object that’s already in the database, use save().\n",
    "Given a Blog instance b5 that has already been saved to the database,\n",
    "this example changes its name and updates its record in the database:"
   ]
  },
  {
   "cell_type": "code",
   "execution_count": null,
   "metadata": {
    "collapsed": true
   },
   "outputs": [],
   "source": [
    ">>> b5.name = 'New name'\n",
    ">>> b5.save()"
   ]
  },
  {
   "cell_type": "markdown",
   "metadata": {},
   "source": [
    "This performs an UPDATE SQL statement behind the scenes.\n",
    "Django doesn’t hit the database until you explicitly call save()."
   ]
  },
  {
   "cell_type": "markdown",
   "metadata": {},
   "source": [
    "## Updating a ForeignKey:\n",
    "Updating a ForeignKey field works exactly the same way as saving a normal field –\n",
    "simply assign an object of the right type to the field in question.\n",
    "This example updates the blog attribute of an Entry instance entry,\n",
    "assuming appropriate instances of Entry and Blog are already saved to the database (so we can retrieve them below):"
   ]
  },
  {
   "cell_type": "code",
   "execution_count": null,
   "metadata": {
    "collapsed": true
   },
   "outputs": [],
   "source": [
    ">>> from blog.models import Entry\n",
    ">>> entry = Entry.objects.get(pk=1)\n",
    ">>> cheese_blog = Blog.objects.get(name=\"Cheddar Talk\")\n",
    ">>> entry.blog = cheese_blog\n",
    ">>> entry.save()"
   ]
  },
  {
   "cell_type": "markdown",
   "metadata": {},
   "source": [
    "## Updating a ManyToManyField:\n",
    "Updating a ManyToManyField works a little differently –\n",
    "use the add() method on the field to add a record to the relation.\n",
    "This example adds the Author instance joe to the entry object:"
   ]
  },
  {
   "cell_type": "code",
   "execution_count": null,
   "metadata": {
    "collapsed": true
   },
   "outputs": [],
   "source": [
    ">>> from blog.models import Author\n",
    ">>> joe = Author.objects.create(name=\"Joe\")\n",
    ">>> entry.authors.add(joe)"
   ]
  },
  {
   "cell_type": "markdown",
   "metadata": {},
   "source": [
    "To add multiple records to a ManyToManyField in one go,\n",
    "include multiple arguments in the call to add(), like this:"
   ]
  },
  {
   "cell_type": "code",
   "execution_count": null,
   "metadata": {
    "collapsed": true
   },
   "outputs": [],
   "source": [
    ">>> john = Author.objects.create(name=\"John\")\n",
    ">>> paul = Author.objects.create(name=\"Paul\")\n",
    ">>> george = Author.objects.create(name=\"George\")\n",
    ">>> ringo = Author.objects.create(name=\"Ringo\")\n",
    ">>> entry.authors.add(john, paul, george, ringo)"
   ]
  },
  {
   "cell_type": "markdown",
   "metadata": {},
   "source": [
    "## Retrieving objects:\n",
    "\n",
    "To retrieve objects from your database, construct a QuerySet via a Manager on your model class.\n",
    "    A QuerySet represents a collection of objects from your database.\n",
    "    It can have zero, one or many filters.\n",
    "    Filters narrow down the query results based on the given parameters.\n",
    "    In SQL terms, a QuerySet equates to a SELECT statement,\n",
    "    and a filter is a limiting clause such as WHERE or LIMIT.\n",
    "    \n",
    "  You get a QuerySet by using your model’s Manager.\n",
    "    Each model has at least one Manager, and it’s called objects by default.\n",
    "    Access it directly via the model class, like so:"
   ]
  },
  {
   "cell_type": "code",
   "execution_count": null,
   "metadata": {
    "collapsed": true
   },
   "outputs": [],
   "source": [
    ">>> Blog.objects\n",
    "<django.db.models.manager.Manager object at ...>\n",
    ">>> b = Blog(name='Foo', tagline='Bar')\n",
    ">>> b.objects\n",
    "    Traceback:\n",
    "        ...\n",
    "    AttributeError: \"Manager isn't accessible via Blog instances.\""
   ]
  },
  {
   "cell_type": "markdown",
   "metadata": {},
   "source": [
    "The Manager is the main source of QuerySets for a model.\n",
    "        For example, Blog.objects.all() returns a QuerySet that contains all Blog objects in the database.\n",
    "        \n",
    "## Retrieving all objects:\n",
    "\n",
    " The simplest way to retrieve objects from a table is to get all of them.\n",
    "    To do this, use the all() method on a Manager:\n",
    "    \n",
    " The all() method returns a QuerySet of all the objects in the database."
   ]
  },
  {
   "cell_type": "code",
   "execution_count": null,
   "metadata": {
    "collapsed": true
   },
   "outputs": [],
   "source": [
    ">>> all_entries = Entry.objects.all()"
   ]
  },
  {
   "cell_type": "markdown",
   "metadata": {},
   "source": [
    "## Retrieving specific objects with filters:\n",
    "The QuerySet returned by all() describes all objects in the database table.\n",
    "Usually, though, you’ll need to select only a subset of the complete set of objects.\n",
    "\n",
    "To create such a subset, you refine the initial QuerySet,\n",
    "adding filter conditions. The two most common ways to refine a QuerySet are:\n",
    "\n",
    "    filter(**kwargs)\n",
    "        Returns a new QuerySet containing objects that match the given lookup parameters.\n",
    "        \n",
    "    exclude(**kwargs)\n",
    "        Returns a new QuerySet containing objects that do not match the given lookup parameters.\n",
    "        \n",
    "The lookup parameters (**kwargs in the above function definitions) should be in the format described in Field lookups below.\n",
    "    For example, to get a QuerySet of blog entries from the year 2006, use filter() like so:"
   ]
  },
  {
   "cell_type": "code",
   "execution_count": null,
   "metadata": {
    "collapsed": true
   },
   "outputs": [],
   "source": [
    "Entry.objects.filter(pub_date__year=2006)"
   ]
  },
  {
   "cell_type": "markdown",
   "metadata": {},
   "source": [
    "With the default manager class, it is the same as:"
   ]
  },
  {
   "cell_type": "code",
   "execution_count": null,
   "metadata": {
    "collapsed": true
   },
   "outputs": [],
   "source": [
    "Entry.objects.all().filter(pub_date__year=2006)"
   ]
  },
  {
   "cell_type": "markdown",
   "metadata": {},
   "source": [
    "## Chaining filters:\n",
    "The result of refining a QuerySet is itself a QuerySet,\n",
    "so it’s possible to chain refinements together. For example:"
   ]
  },
  {
   "cell_type": "code",
   "execution_count": null,
   "metadata": {
    "collapsed": true
   },
   "outputs": [],
   "source": [
    ">>> Entry.objects.filter(\n",
    "...     headline__startswith='What'\n",
    "... ).exclude(\n",
    "...     pub_date__gte=datetime.date.today()\n",
    "... ).filter(\n",
    "...     pub_date__gte=datetime(2005, 1, 30)\n",
    "... )"
   ]
  },
  {
   "cell_type": "markdown",
   "metadata": {},
   "source": [
    "This takes the initial QuerySet of all entries in the database,\n",
    "    adds a filter, then an exclusion, then another filter.\n",
    "    The final result is a QuerySet containing all entries with a headline that starts with “What”,\n",
    "    that were published between January 30, 2005, and the current day."
   ]
  },
  {
   "cell_type": "markdown",
   "metadata": {},
   "source": [
    "## Filtered QuerySets are unique:\n",
    "\n",
    "Each time you refine a QuerySet, you get a brand-new QuerySet that is in no way bound to the previous QuerySet.\n",
    "Each refinement creates a separate and distinct QuerySet that can be stored, used and reused.\n",
    "\n",
    "Example:"
   ]
  },
  {
   "cell_type": "code",
   "execution_count": null,
   "metadata": {
    "collapsed": true
   },
   "outputs": [],
   "source": [
    ">>> q1 = Entry.objects.filter(headline__startswith=\"What\")\n",
    ">>> q2 = q1.exclude(pub_date__gte=datetime.date.today())\n",
    ">>> q3 = q1.filter(pub_date__gte=datetime.date.today())"
   ]
  },
  {
   "cell_type": "markdown",
   "metadata": {},
   "source": [
    "These three QuerySets are separate.\n",
    "\n",
    "The first is a base QuerySet containing all entries that contain a headline starting with “What”.\n",
    "\n",
    "The second is a subset of the first, with an additional criteria that excludes records whose pub_date is today or in the future.\n",
    "\n",
    "\n",
    "The third is a subset of the first, with an additional criteria that selects only the records whose pub_date is today or in the future.\n",
    "\n",
    "The initial QuerySet (q1) is unaffected by the refinement process.\n",
    "\n",
    "## Retrieving a single object with get():\n",
    "\n",
    "filter() will always give you a QuerySet,\n",
    "even if only a single object matches the query -\n",
    "in this case, it will be a QuerySet containing a single element.\n",
    "\n",
    "If you know there is only one object that matches your query,\n",
    "you can use the get() method on a Manager which returns the object directly:"
   ]
  },
  {
   "cell_type": "code",
   "execution_count": null,
   "metadata": {
    "collapsed": true
   },
   "outputs": [],
   "source": [
    ">>> one_entry = Entry.objects.get(pk=1)"
   ]
  },
  {
   "cell_type": "markdown",
   "metadata": {},
   "source": [
    "You can use any query expression with get(), just like with filter().\n",
    "\n",
    "Note that there is a difference between using get(), and using filter() with a slice of [0].\n",
    "\n",
    "If there are no results that match the query, get() will raise a DoesNotExist exception.\n",
    "This exception is an attribute of the model class that the query is being performed on\n",
    " \n",
    " so in the code above, if there is no Entry object with a primary key of 1,\n",
    "Django will raise Entry.DoesNotExist.\n",
    "\n",
    "Similarly, Django will complain if more than one item matches the get() query.\n",
    "In this case, it will raise MultipleObjectsReturned, which again is an attribute of the model class itself.\n",
    "\n",
    "## Limiting QuerySets:\n",
    "Use a subset of Python’s array-slicing syntax to limit your QuerySet to a certain number of results.\n",
    "This is the equivalent of SQL’s LIMIT and OFFSET clauses.\n",
    "\n",
    "For example, this returns the first 5 objects (LIMIT 5):"
   ]
  },
  {
   "cell_type": "code",
   "execution_count": null,
   "metadata": {
    "collapsed": true
   },
   "outputs": [],
   "source": [
    ">>> Entry.objects.all()[:5]"
   ]
  },
  {
   "cell_type": "markdown",
   "metadata": {},
   "source": [
    "This returns the sixth through tenth objects (OFFSET 5 LIMIT 5):"
   ]
  },
  {
   "cell_type": "code",
   "execution_count": null,
   "metadata": {
    "collapsed": true
   },
   "outputs": [],
   "source": [
    ">>> Entry.objects.all()[5:10]"
   ]
  },
  {
   "cell_type": "markdown",
   "metadata": {},
   "source": [
    "Negative indexing (i.e. Entry.objects.all()[-1]) is not supported.\n",
    "\n",
    "Generally, slicing a QuerySet returns a new QuerySet –\n",
    "it doesn’t evaluate the query.\n",
    "An exception is if you use the “step” parameter of Python slice syntax.\n",
    "For example, this would actually execute the query\n",
    "in order to return a list of every second object of the first 10:"
   ]
  },
  {
   "cell_type": "code",
   "execution_count": null,
   "metadata": {
    "collapsed": true
   },
   "outputs": [],
   "source": [
    ">>> Entry.objects.all()[:10:2]"
   ]
  },
  {
   "cell_type": "markdown",
   "metadata": {},
   "source": [
    "To retrieve a single object rather than a list (e.g. SELECT foo FROM bar LIMIT 1),\n",
    "use a simple index instead of a slice. For example,\n",
    "this returns the first Entry in the database, after ordering entries alphabetically by headline:"
   ]
  },
  {
   "cell_type": "code",
   "execution_count": null,
   "metadata": {
    "collapsed": true
   },
   "outputs": [],
   "source": [
    ">>> Entry.objects.order_by('headline')[0]"
   ]
  },
  {
   "cell_type": "markdown",
   "metadata": {},
   "source": [
    "This is roughly equivalent to:"
   ]
  },
  {
   "cell_type": "code",
   "execution_count": null,
   "metadata": {
    "collapsed": true
   },
   "outputs": [],
   "source": [
    ">>> Entry.objects.order_by('headline')[0:1].get()"
   ]
  },
  {
   "cell_type": "markdown",
   "metadata": {},
   "source": [
    "## Field lookups:"
   ]
  },
  {
   "cell_type": "markdown",
   "metadata": {},
   "source": [
    "Field lookups are how you specify the meat of an SQL WHERE clause.\n",
    "They’re specified as keyword arguments to the QuerySet methods filter(), exclude() and get().\n",
    "\n",
    "Basic lookups keyword arguments take the form field__lookuptype=value. (That’s a double-underscore). For example:"
   ]
  },
  {
   "cell_type": "code",
   "execution_count": null,
   "metadata": {
    "collapsed": true
   },
   "outputs": [],
   "source": [
    ">>> Entry.objects.filter(pub_date__lte='2006-01-01')"
   ]
  },
  {
   "cell_type": "markdown",
   "metadata": {},
   "source": [
    "translates (roughly) into the following SQL:"
   ]
  },
  {
   "cell_type": "code",
   "execution_count": null,
   "metadata": {
    "collapsed": true
   },
   "outputs": [],
   "source": [
    "SELECT * FROM blog_entry WHERE pub_date <= '2006-01-01';"
   ]
  },
  {
   "cell_type": "markdown",
   "metadata": {},
   "source": [
    "The field specified in a lookup has to be the name of a model field.\n",
    "    There’s one exception though, in case of a ForeignKey you can specify the field name suffixed with _id.\n",
    "    In this case, the value parameter is expected to contain the raw value of the foreign model’s primary key. For example:\n",
    "\n",
    "        "
   ]
  },
  {
   "cell_type": "code",
   "execution_count": null,
   "metadata": {
    "collapsed": true
   },
   "outputs": [],
   "source": [
    ">>> Entry.objects.filter(blog_id=4)"
   ]
  },
  {
   "cell_type": "markdown",
   "metadata": {},
   "source": [
    "If you pass an invalid keyword argument, a lookup function will raise TypeError.\n",
    "\n",
    "## exact:\n",
    "    An “exact” match. For example:"
   ]
  },
  {
   "cell_type": "code",
   "execution_count": null,
   "metadata": {
    "collapsed": true
   },
   "outputs": [],
   "source": [
    ">>> Entry.objects.get(headline__exact=\"Cat bites dog\")"
   ]
  },
  {
   "cell_type": "markdown",
   "metadata": {},
   "source": [
    "Would generate SQL along these lines:"
   ]
  },
  {
   "cell_type": "code",
   "execution_count": null,
   "metadata": {
    "collapsed": true
   },
   "outputs": [],
   "source": [
    "SELECT ... WHERE headline = 'Cat bites dog';"
   ]
  },
  {
   "cell_type": "markdown",
   "metadata": {},
   "source": [
    "If you don’t provide a lookup type – that is, if your keyword argument doesn’t contain a double underscore –\n",
    "the lookup type is assumed to be exact.\n",
    "\n",
    "For example, the following two statements are equivalent:"
   ]
  },
  {
   "cell_type": "code",
   "execution_count": null,
   "metadata": {
    "collapsed": true
   },
   "outputs": [],
   "source": [
    ">>> Blog.objects.get(id__exact=14)  # Explicit form\n",
    ">>> Blog.objects.get(id=14)         # __exact is implied"
   ]
  },
  {
   "cell_type": "markdown",
   "metadata": {},
   "source": [
    "This is for convenience, because exact lookups are the common case.\n",
    "\n",
    "## iexact:\n",
    "A case-insensitive match. So, the query:\n",
    "\n"
   ]
  },
  {
   "cell_type": "code",
   "execution_count": null,
   "metadata": {
    "collapsed": true
   },
   "outputs": [],
   "source": [
    ">>> Blog.objects.get(name__iexact=\"beatles blog\")"
   ]
  },
  {
   "cell_type": "markdown",
   "metadata": {},
   "source": [
    "Would match a Blog titled \"Beatles Blog\", \"beatles blog\", or even \"BeAtlES blOG\".\n",
    "\n",
    "## contains:\n",
    "Case-sensitive containment test. For example:\n",
    "        "
   ]
  },
  {
   "cell_type": "code",
   "execution_count": null,
   "metadata": {
    "collapsed": true
   },
   "outputs": [],
   "source": [
    "Entry.objects.get(headline__contains='Lennon')"
   ]
  },
  {
   "cell_type": "markdown",
   "metadata": {},
   "source": [
    " Roughly translates to this SQL:\n",
    "       "
   ]
  },
  {
   "cell_type": "code",
   "execution_count": null,
   "metadata": {
    "collapsed": true
   },
   "outputs": [],
   "source": [
    " SELECT ... WHERE headline LIKE '%Lennon%';"
   ]
  },
  {
   "cell_type": "markdown",
   "metadata": {},
   "source": [
    "Note this will match the headline 'Today Lennon honored' but not 'today lennon honored'.\n",
    "There’s also a case-insensitive version, icontains.\n",
    "\n",
    "## startswith, endswith:\n",
    "Starts-with and ends-with search, respectively.\n",
    "There are also case-insensitive versions called istartswith and iendswith."
   ]
  },
  {
   "cell_type": "markdown",
   "metadata": {},
   "source": [
    "## Lookups that span relationships:\n",
    "Django offers a powerful and intuitive way to “follow” relationships in lookups,\n",
    "taking care of the SQL JOINs for you automatically, behind the scenes.\n",
    "To span a relationship, just use the field name of related fields across models,\n",
    "separated by double underscores, until you get to the field you want.\n",
    "\n",
    "This example retrieves all Entry objects with a Blog whose name is 'Beatles Blog':\n",
    "\n",
    "  "
   ]
  },
  {
   "cell_type": "code",
   "execution_count": null,
   "metadata": {
    "collapsed": true
   },
   "outputs": [],
   "source": [
    " >>> Entry.objects.filter(blog__name='Beatles Blog')"
   ]
  },
  {
   "cell_type": "markdown",
   "metadata": {},
   "source": [
    "This spanning can be as deep as you’d like.\n",
    "\n",
    "It works backwards, too. To refer to a “reverse” relationship, just use the lowercase name of the model.\n",
    "\n",
    "This example retrieves all Blog objects which have at least one Entry whose headline contains 'Lennon':\n",
    "\n"
   ]
  },
  {
   "cell_type": "code",
   "execution_count": null,
   "metadata": {
    "collapsed": true
   },
   "outputs": [],
   "source": [
    " >>> Blog.objects.filter(entry__headline__contains='Lennon')"
   ]
  },
  {
   "cell_type": "markdown",
   "metadata": {},
   "source": [
    "## The pk lookup shortcut:\n",
    "\n",
    "For convenience, Django provides a pk lookup shortcut, which stands for “primary key”.\n",
    "\n",
    "In the example Blog model, the primary key is the id field, so these three statements are equivalent:\n",
    "\n",
    " "
   ]
  },
  {
   "cell_type": "code",
   "execution_count": null,
   "metadata": {
    "collapsed": true
   },
   "outputs": [],
   "source": [
    ">>> Blog.objects.get(id__exact=14) # Explicit form\n",
    ">>> Blog.objects.get(id=14) # __exact is implied\n",
    ">>> Blog.objects.get(pk=14) # pk implies id__exact"
   ]
  },
  {
   "cell_type": "markdown",
   "metadata": {},
   "source": [
    "\n",
    "The use of pk isn’t limited to __exact queries –\n",
    "any query term can be combined with pk to perform a query on the primary key of a model:\n",
    "\n",
    " "
   ]
  },
  {
   "cell_type": "code",
   "execution_count": null,
   "metadata": {
    "collapsed": true
   },
   "outputs": [],
   "source": [
    "# Get blogs entries with id 1, 4 and 7\n",
    ">>> Blog.objects.filter(pk__in=[1,4,7])\n",
    "\n",
    "# Get all blog entries with id > 14\n",
    ">>> Blog.objects.filter(pk__gt=14)"
   ]
  },
  {
   "cell_type": "markdown",
   "metadata": {},
   "source": [
    "pk lookups also work across joins. For example, these three statements are equivalent:"
   ]
  },
  {
   "cell_type": "code",
   "execution_count": null,
   "metadata": {
    "collapsed": true
   },
   "outputs": [],
   "source": [
    ">>> Entry.objects.filter(blog__id__exact=3) # Explicit form\n",
    ">>> Entry.objects.filter(blog__id=3)        # __exact is implied\n",
    ">>> Entry.objects.filter(blog__pk=3)        # __pk implies __id__exact"
   ]
  },
  {
   "cell_type": "markdown",
   "metadata": {},
   "source": [
    "## Escaping percent signs and underscores in LIKE statements:\n",
    "\n",
    "The field lookups that equate to LIKE SQL statements (iexact, contains, icontains, startswith, istartswith, endswith and iendswith)\n",
    "will automatically escape the two special characters used in LIKE statements –\n",
    "the percent sign and the underscore. (In a LIKE statement,\n",
    "the percent sign signifies a multiple-character wildcard and\n",
    "the underscore signifies a single-character wildcard.)\n",
    "\n",
    "This means things should work intuitively,\n",
    "so the abstraction doesn’t leak. For example, to retrieve all the entries that contain a percent sign,\n",
    "just use the percent sign as any other character:\n"
   ]
  },
  {
   "cell_type": "code",
   "execution_count": null,
   "metadata": {
    "collapsed": true
   },
   "outputs": [],
   "source": [
    ">>> Entry.objects.filter(headline__contains='%')"
   ]
  },
  {
   "cell_type": "markdown",
   "metadata": {},
   "source": [
    "Django takes care of the quoting for you; the resulting SQL will look something like this:"
   ]
  },
  {
   "cell_type": "code",
   "execution_count": null,
   "metadata": {
    "collapsed": true
   },
   "outputs": [],
   "source": [
    "SELECT ... WHERE headline LIKE '%\\%%';"
   ]
  },
  {
   "cell_type": "markdown",
   "metadata": {},
   "source": [
    "Same goes for underscores. Both percentage signs and underscores are handled for you transparently."
   ]
  },
  {
   "cell_type": "markdown",
   "metadata": {},
   "source": [
    "## Deleting objects:\n",
    "\n",
    "The delete method, conveniently, is named delete().\n",
    "This method immediately deletes the object and returns the number of objects deleted and\n",
    "a dictionary with the number of deletions per object type. Example:\n"
   ]
  },
  {
   "cell_type": "code",
   "execution_count": null,
   "metadata": {
    "collapsed": true
   },
   "outputs": [],
   "source": [
    ">>> e.delete()\n",
    "    (1, {'weblog.Entry': 1})"
   ]
  },
  {
   "cell_type": "markdown",
   "metadata": {},
   "source": [
    "You can also delete objects in bulk.\n",
    "Every QuerySet has a delete() method, which deletes all members of that QuerySet.\n",
    "\n",
    "For example, this deletes all Entry objects with a pub_date year of 2005:\n",
    "\n"
   ]
  },
  {
   "cell_type": "code",
   "execution_count": null,
   "metadata": {
    "collapsed": true
   },
   "outputs": [],
   "source": [
    " >>> Entry.objects.filter(pub_date__year=2005).delete()\n",
    "        (5, {'webapp.Entry': 5})"
   ]
  },
  {
   "cell_type": "markdown",
   "metadata": {},
   "source": [
    "Keep in mind that this will, whenever possible, be executed purely in SQL,\n",
    "and so the delete() methods of individual object instances will not necessarily be called during the process.\n",
    "If you’ve provided a custom delete() method on a model class and want to ensure that it is called,\n",
    "you will need to “manually” delete instances of that model\n",
    "(e.g., by iterating over a QuerySet and calling delete() on each object individually) rather than using the bulk delete() method of a QuerySet.\n",
    "\n",
    "When Django deletes an object, by default it emulates the behavior of the SQL constraint ON DELETE CASCADE –\n",
    "in other words, any objects which had foreign keys pointing at the object to be deleted will be deleted along with it. For example:\n"
   ]
  },
  {
   "cell_type": "code",
   "execution_count": null,
   "metadata": {
    "collapsed": true
   },
   "outputs": [],
   "source": [
    "b = Blog.objects.get(pk=1)\n",
    "# This will delete the Blog and all of its Entry objects.\n",
    "b.delete()"
   ]
  },
  {
   "cell_type": "markdown",
   "metadata": {},
   "source": [
    "Note that delete() is the only QuerySet method that is not exposed on a Manager itself.\n",
    "This is a safety mechanism to prevent you from accidentally requesting Entry.objects.delete(),\n",
    "and deleting all the entries.\n",
    "If you do want to delete all the objects, then you have to explicitly request a complete query set:"
   ]
  },
  {
   "cell_type": "code",
   "execution_count": null,
   "metadata": {
    "collapsed": true
   },
   "outputs": [],
   "source": [
    "Entry.objects.all().delete()"
   ]
  },
  {
   "cell_type": "markdown",
   "metadata": {},
   "source": [
    "## Performing raw SQL queries¶\n",
    "\n",
    "When the model query APIs don’t go far enough, you can fall back to writing raw SQL.\n",
    "Django gives you two ways of performing raw SQL queries:\n",
    "you can use Manager.raw() to perform raw queries and return model instances,\n",
    "or you can avoid the model layer entirely and execute custom SQL directly.\n",
    "\n",
    "## Warning\n",
    "You should be very careful whenever you write raw SQL.\n",
    "Every time you use it, you should properly escape any parameters that the user can control by using params\n",
    "in order to protect against SQL injection attacks.\n",
    "\n",
    "\n",
    "\n",
    "The raw() manager method can be used to perform raw SQL queries that return model instances:\n"
   ]
  },
  {
   "cell_type": "code",
   "execution_count": null,
   "metadata": {
    "collapsed": true
   },
   "outputs": [],
   "source": [
    "Manager.raw(raw_query, params=None, translations=None)"
   ]
  },
  {
   "cell_type": "markdown",
   "metadata": {},
   "source": [
    "This method takes a raw SQL query, executes it, and returns a django.db.models.query.RawQuerySet instance.\n",
    "This RawQuerySet instance can be iterated over just like a normal QuerySet to provide object instances.\n",
    "\n",
    "This is best illustrated with an example. Suppose you have the following model:"
   ]
  },
  {
   "cell_type": "code",
   "execution_count": null,
   "metadata": {
    "collapsed": true
   },
   "outputs": [],
   "source": [
    "class Person(models.Model):\n",
    "    first_name = models.CharField(...)\n",
    "    last_name = models.CharField(...)\n",
    "    birth_date = models.DateField(...)"
   ]
  },
  {
   "cell_type": "markdown",
   "metadata": {},
   "source": [
    "You could then execute custom SQL like so:"
   ]
  },
  {
   "cell_type": "code",
   "execution_count": null,
   "metadata": {
    "collapsed": true
   },
   "outputs": [],
   "source": [
    ">>> for p in Person.objects.raw('SELECT * FROM myapp_person'):\n",
    "...     print(p)\n",
    "John Smith\n",
    "Jane Jones"
   ]
  }
 ],
 "metadata": {
  "kernelspec": {
   "display_name": "Python 3",
   "language": "python",
   "name": "python3"
  },
  "language_info": {
   "codemirror_mode": {
    "name": "ipython",
    "version": 3
   },
   "file_extension": ".py",
   "mimetype": "text/x-python",
   "name": "python",
   "nbconvert_exporter": "python",
   "pygments_lexer": "ipython3",
   "version": "3.6.1"
  }
 },
 "nbformat": 4,
 "nbformat_minor": 2
}
